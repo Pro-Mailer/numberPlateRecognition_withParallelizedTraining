{
  "nbformat": 4,
  "nbformat_minor": 0,
  "metadata": {
    "colab": {
      "provenance": [],
      "gpuType": "T4"
    },
    "kernelspec": {
      "name": "python3",
      "display_name": "Python 3"
    },
    "language_info": {
      "name": "python"
    },
    "accelerator": "GPU"
  },
  "cells": [
    {
      "cell_type": "code",
      "execution_count": 25,
      "metadata": {
        "id": "hNXj7cmUf86v"
      },
      "outputs": [],
      "source": [
        "import matplotlib.pyplot as plt\n",
        "import cv2\n",
        "import numpy as np\n",
        "import pandas as pd\n",
        "from keras.models import Sequential\n",
        "from keras.layers import Dense\n",
        "from keras.layers import Dropout\n",
        "from keras.layers import Flatten, MaxPool2D\n",
        "from keras.layers import Dense, Flatten, MaxPooling2D, Dropout, Conv2D\n",
        "from keras import backend as K\n",
        "from keras import optimizers\n",
        "from sklearn.model_selection import train_test_split"
      ]
    },
    {
      "cell_type": "code",
      "source": [
        "def extract_plate(img):\n",
        "  plate_img = cv2.imread(img)\n",
        "  plate_cascade = cv2.CascadeClassifier('/content/drive/MyDrive/number_plate_recog/indian_license_plate.xml')\n",
        "\n",
        "  plate_rect = plate_cascade.detectMultiScale(plate_img, scaleFactor = 1.3, minNeighbors = 7)\n",
        "\n",
        "  for (x,y,w,h) in plate_rect:\n",
        "    a,b = (int(0.02*plate_img.shape[0]), int(0.025*plate_img.shape[1]))\n",
        "    plate = plate_img[y+a:y+h-a, x+b:x+w-b, :]\n",
        "    cv2.rectangle(plate_img, (x,y), (x+w, y+h), (51,51,255), 3)\n",
        "\n",
        "  return plate_img, plate"
      ],
      "metadata": {
        "id": "N3ovDEcpgNX1"
      },
      "execution_count": 26,
      "outputs": []
    },
    {
      "cell_type": "code",
      "source": [
        "def segment_characters(image) :\n",
        "\n",
        "  img = cv2.resize(image, (333, 75))\n",
        "  img_gray = cv2.cvtColor(img, cv2.COLOR_BGR2GRAY)\n",
        "  _, img_binary = cv2.threshold(img_gray, 200, 255, cv2.THRESH_BINARY+cv2.THRESH_OTSU)\n",
        "  img_erode = cv2.erode(img_binary, (3,3))\n",
        "  img_dilate = cv2.dilate(img_erode, (3,3))\n",
        "\n",
        "  LP_WIDTH = img_dilate.shape[0]\n",
        "  LP_HEIGHT = img_dilate.shape[1]\n",
        "\n",
        "  img_dilate[0:3,:] = 255\n",
        "  img_dilate[:,0:3] = 255\n",
        "  img_dilate[72:75,:] = 255\n",
        "  img_dilate[:,330:333] = 255\n",
        "\n",
        "  dimensions = [LP_WIDTH/6, LP_WIDTH/2, LP_HEIGHT/10, 2*LP_HEIGHT/3]\n",
        "\n",
        "  char_list = find_contours(dimensions, img_dilate)\n",
        "\n",
        "  return char_list"
      ],
      "metadata": {
        "id": "6omzLSG0gPZT"
      },
      "execution_count": 27,
      "outputs": []
    },
    {
      "cell_type": "code",
      "source": [
        "def find_contours(dimensions, img) :\n",
        "\n",
        "  cntrs, _ = cv2.findContours(img.copy(), cv2.RETR_TREE, cv2.CHAIN_APPROX_SIMPLE)\n",
        "\n",
        "  lower_width = dimensions[0]\n",
        "  upper_width = dimensions[1]\n",
        "  lower_height = dimensions[2]\n",
        "  upper_height = dimensions[3]\n",
        "\n",
        "  cntrs = sorted(cntrs, key=cv2.contourArea, reverse=True)[:15]\n",
        "\n",
        "  x_cntr_list = []\n",
        "  target_contours = []\n",
        "  img_res = []\n",
        "  for cntr in cntrs :\n",
        "      intX, intY, intWidth, intHeight = cv2.boundingRect(cntr)\n",
        "\n",
        "      if intWidth > lower_width and intWidth < upper_width and intHeight > lower_height and intHeight < upper_height :\n",
        "          x_cntr_list.append(intX)\n",
        "\n",
        "          char_copy = np.zeros((44,24))\n",
        "          char = img[intY:intY+intHeight, intX:intX+intWidth]\n",
        "          char = cv2.resize(char, (20, 40))\n",
        "\n",
        "          char = cv2.subtract(255, char)\n",
        "\n",
        "          char_copy[2:42, 2:22] = char\n",
        "          char_copy[0:2, :] = 0\n",
        "          char_copy[:, 0:2] = 0\n",
        "          char_copy[42:44, :] = 0\n",
        "          char_copy[:, 22:24] = 0\n",
        "\n",
        "          img_res.append(char_copy)\n",
        "\n",
        "  indices = sorted(range(len(x_cntr_list)), key=lambda k: x_cntr_list[k])\n",
        "  img_res_copy = []\n",
        "  for idx in indices:\n",
        "      img_res_copy.append(img_res[idx])\n",
        "  img_res = np.array(img_res_copy)\n",
        "\n",
        "  return img_res"
      ],
      "metadata": {
        "id": "zrnhSiS6gSC6"
      },
      "execution_count": 28,
      "outputs": []
    },
    {
      "cell_type": "code",
      "source": [
        "import tensorflow as tf\n",
        "from keras.preprocessing.image import ImageDataGenerator\n",
        "\n",
        "class stop_training_callback(tf.keras.callbacks.Callback):\n",
        "    def on_epoch_end(self, epoch, logs={}):\n",
        "        if logs.get('val_accuracy', 0) > 0.992:\n",
        "            self.model.stop_training = True\n",
        "\n",
        "strategy = tf.distribute.MirroredStrategy()\n",
        "with strategy.scope():\n",
        "    model = Sequential()\n",
        "    model.add(Conv2D(32, (24,24), input_shape=(28, 28, 3), activation='relu', padding='same'))\n",
        "    model.add(Conv2D(32, (20,20), input_shape=(28, 28, 3), activation='relu', padding='same'))\n",
        "    model.add(Conv2D(32, (20,20), input_shape=(28, 28, 3), activation='relu', padding='same'))\n",
        "    model.add(MaxPooling2D(pool_size=(2, 2)))\n",
        "    model.add(Dropout(0.4))\n",
        "    model.add(Flatten())\n",
        "    model.add(Dense(128, activation='relu'))\n",
        "    model.add(Dense(36, activation='softmax'))\n",
        "\n",
        "    model.compile(loss='categorical_crossentropy', optimizer=optimizers.Adam(learning_rate=0.00001), metrics=['accuracy'])\n",
        "\n",
        "with strategy.scope():\n",
        "    train_datagen = ImageDataGenerator(rescale=1./255, width_shift_range=0.1, height_shift_range=0.1)\n",
        "    train_generator = train_datagen.flow_from_directory(\n",
        "        '/content/drive/MyDrive/number_plate_recog/train',\n",
        "        target_size=(28,28),\n",
        "        batch_size=1,\n",
        "        class_mode='categorical')\n",
        "\n",
        "    validation_generator = train_datagen.flow_from_directory(\n",
        "        '/content/drive/MyDrive/number_plate_recog/val',\n",
        "        target_size=(28,28),\n",
        "        batch_size=1,\n",
        "        class_mode='categorical')\n",
        "\n",
        "    batch_size = 1\n",
        "    callbacks = [stop_training_callback()]\n",
        "    model.fit(\n",
        "        train_generator,\n",
        "        steps_per_epoch=train_generator.samples // batch_size,\n",
        "        validation_data=validation_generator,\n",
        "        validation_steps=validation_generator.samples // batch_size,\n",
        "        epochs=23,\n",
        "        callbacks=callbacks)"
      ],
      "metadata": {
        "colab": {
          "base_uri": "https://localhost:8080/"
        },
        "id": "GubnLc2pgXqB",
        "outputId": "cb5d0b93-c16d-4d47-9faf-0f2170407a64"
      },
      "execution_count": 35,
      "outputs": [
        {
          "output_type": "stream",
          "name": "stdout",
          "text": [
            "Found 864 images belonging to 36 classes.\n",
            "Found 216 images belonging to 36 classes.\n",
            "Epoch 1/23\n",
            "864/864 [==============================] - 13s 13ms/step - loss: 3.4982 - accuracy: 0.0752 - val_loss: 3.2167 - val_accuracy: 0.1852\n",
            "Epoch 2/23\n",
            "864/864 [==============================] - 10s 12ms/step - loss: 2.6044 - accuracy: 0.2847 - val_loss: 1.8335 - val_accuracy: 0.5278\n",
            "Epoch 3/23\n",
            "864/864 [==============================] - 11s 13ms/step - loss: 1.7178 - accuracy: 0.4780 - val_loss: 1.2755 - val_accuracy: 0.7269\n",
            "Epoch 4/23\n",
            "864/864 [==============================] - 12s 14ms/step - loss: 1.3075 - accuracy: 0.6030 - val_loss: 1.0065 - val_accuracy: 0.7269\n",
            "Epoch 5/23\n",
            "864/864 [==============================] - 11s 12ms/step - loss: 0.9664 - accuracy: 0.6910 - val_loss: 0.7539 - val_accuracy: 0.8194\n",
            "Epoch 6/23\n",
            "864/864 [==============================] - 10s 12ms/step - loss: 0.8822 - accuracy: 0.7060 - val_loss: 0.6763 - val_accuracy: 0.8056\n",
            "Epoch 7/23\n",
            "864/864 [==============================] - 9s 10ms/step - loss: 0.6683 - accuracy: 0.7836 - val_loss: 0.5143 - val_accuracy: 0.8796\n",
            "Epoch 8/23\n",
            "864/864 [==============================] - 10s 12ms/step - loss: 0.6309 - accuracy: 0.8079 - val_loss: 0.5158 - val_accuracy: 0.8750\n",
            "Epoch 9/23\n",
            "864/864 [==============================] - 10s 12ms/step - loss: 0.5268 - accuracy: 0.8391 - val_loss: 0.4279 - val_accuracy: 0.8935\n",
            "Epoch 10/23\n",
            "864/864 [==============================] - 10s 12ms/step - loss: 0.4610 - accuracy: 0.8553 - val_loss: 0.4246 - val_accuracy: 0.8519\n",
            "Epoch 11/23\n",
            "864/864 [==============================] - 14s 16ms/step - loss: 0.3857 - accuracy: 0.8727 - val_loss: 0.3336 - val_accuracy: 0.9213\n",
            "Epoch 12/23\n",
            "864/864 [==============================] - 12s 14ms/step - loss: 0.3676 - accuracy: 0.8970 - val_loss: 0.2783 - val_accuracy: 0.9167\n",
            "Epoch 13/23\n",
            "864/864 [==============================] - 10s 12ms/step - loss: 0.3145 - accuracy: 0.8981 - val_loss: 0.2337 - val_accuracy: 0.9167\n",
            "Epoch 14/23\n",
            "864/864 [==============================] - 10s 12ms/step - loss: 0.2882 - accuracy: 0.9213 - val_loss: 0.3307 - val_accuracy: 0.9120\n",
            "Epoch 15/23\n",
            "864/864 [==============================] - 11s 12ms/step - loss: 0.2599 - accuracy: 0.9144 - val_loss: 0.1631 - val_accuracy: 0.9352\n",
            "Epoch 16/23\n",
            "864/864 [==============================] - 12s 14ms/step - loss: 0.2417 - accuracy: 0.9213 - val_loss: 0.2175 - val_accuracy: 0.9398\n",
            "Epoch 17/23\n",
            "864/864 [==============================] - 11s 13ms/step - loss: 0.2317 - accuracy: 0.9144 - val_loss: 0.2171 - val_accuracy: 0.9352\n",
            "Epoch 18/23\n",
            "864/864 [==============================] - 11s 13ms/step - loss: 0.2284 - accuracy: 0.9294 - val_loss: 0.1552 - val_accuracy: 0.9491\n",
            "Epoch 19/23\n",
            "864/864 [==============================] - 12s 14ms/step - loss: 0.1750 - accuracy: 0.9502 - val_loss: 0.1718 - val_accuracy: 0.9491\n",
            "Epoch 20/23\n",
            "864/864 [==============================] - 11s 12ms/step - loss: 0.2265 - accuracy: 0.9248 - val_loss: 0.1525 - val_accuracy: 0.9444\n",
            "Epoch 21/23\n",
            "864/864 [==============================] - 12s 14ms/step - loss: 0.1932 - accuracy: 0.9352 - val_loss: 0.1716 - val_accuracy: 0.9306\n",
            "Epoch 22/23\n",
            "864/864 [==============================] - 11s 12ms/step - loss: 0.1501 - accuracy: 0.9549 - val_loss: 0.1103 - val_accuracy: 0.9583\n",
            "Epoch 23/23\n",
            "864/864 [==============================] - 9s 11ms/step - loss: 0.1335 - accuracy: 0.9549 - val_loss: 0.1073 - val_accuracy: 0.9676\n"
          ]
        }
      ]
    },
    {
      "cell_type": "code",
      "source": [
        "plate_img, plate = extract_plate('/content/drive/MyDrive/number_plate_recog/img.jpg')"
      ],
      "metadata": {
        "id": "EW56G7T_gajL"
      },
      "execution_count": 8,
      "outputs": []
    },
    {
      "cell_type": "code",
      "source": [
        "img = cv2.imread('/content/drive/MyDrive/number_plate_recog/car_plate.png')\n",
        "char = segment_characters(img)"
      ],
      "metadata": {
        "id": "vJWrP8tMgdRa"
      },
      "execution_count": 36,
      "outputs": []
    },
    {
      "cell_type": "code",
      "source": [
        "for i in range(10):\n",
        "    plt.subplot(1, 10, i+1)\n",
        "    plt.imshow(char[i], cmap='gray')\n",
        "    plt.axis('off')"
      ],
      "metadata": {
        "colab": {
          "base_uri": "https://localhost:8080/",
          "height": 114
        },
        "id": "zpDjRlzcgfh8",
        "outputId": "9d1c1cef-717e-4812-a4de-8d6cd7ef1b52"
      },
      "execution_count": 37,
      "outputs": [
        {
          "output_type": "display_data",
          "data": {
            "text/plain": [
              "<Figure size 640x480 with 10 Axes>"
            ],
            "image/png": "[encoded data removed]"
          },
          "metadata": {}
        }
      ]
    },
    {
      "cell_type": "code",
      "source": [
        "def fix_dimension(img):\n",
        "  new_img = np.zeros((28,28,3))\n",
        "  for i in range(3):\n",
        "    new_img[:,:,i] = img\n",
        "  return new_img\n",
        "\n",
        "def show_results():\n",
        "    dic = {}\n",
        "    characters = '0123456789ABCDEFGHIJKLMNOPQRSTUVWXYZ'\n",
        "    for i,c in enumerate(characters):\n",
        "        dic[i] = c\n",
        "\n",
        "    output = []\n",
        "    for i,ch in enumerate(char):\n",
        "        img_ = cv2.resize(ch, (28,28))\n",
        "        img = fix_dimension(img_)\n",
        "        img = img.reshape(1,28,28,3)\n",
        "        y_ = np.argmax(model.predict(img), axis=-1)[0]\n",
        "        character = dic[y_] #\n",
        "        output.append(character)\n",
        "\n",
        "    plate_number = ''.join(output)\n",
        "\n",
        "    return plate_number\n",
        "\n",
        "print(show_results())"
      ],
      "metadata": {
        "colab": {
          "base_uri": "https://localhost:8080/"
        },
        "id": "L5GZwQpNgjPx",
        "outputId": "f7a2125e-76a0-4b16-fc9e-bab1e2f65209"
      },
      "execution_count": 38,
      "outputs": [
        {
          "output_type": "stream",
          "name": "stdout",
          "text": [
            "1/1 [==============================] - 0s 178ms/step\n",
            "1/1 [==============================] - 0s 69ms/step\n",
            "1/1 [==============================] - 0s 65ms/step\n",
            "1/1 [==============================] - 0s 73ms/step\n",
            "1/1 [==============================] - 0s 78ms/step\n",
            "1/1 [==============================] - 0s 67ms/step\n",
            "1/1 [==============================] - 0s 67ms/step\n",
            "1/1 [==============================] - 0s 70ms/step\n",
            "1/1 [==============================] - 0s 92ms/step\n",
            "1/1 [==============================] - 0s 107ms/step\n",
            "DL8CAF5030\n"
          ]
        }
      ]
    },
    {
      "cell_type": "code",
      "source": [
        "plt.figure(figsize=(10,6))\n",
        "for i,ch in enumerate(char):\n",
        "    img = cv2.resize(ch, (28,28))\n",
        "    plt.subplot(3,4,i+1)\n",
        "    plt.imshow(img,cmap='gray')\n",
        "    plt.title(f'predicted: {show_results()[i]}')\n",
        "    plt.axis('off')\n",
        "plt.show()"
      ],
      "metadata": {
        "colab": {
          "base_uri": "https://localhost:8080/",
          "height": 1000
        },
        "id": "C2BL1wsPgnOp",
        "outputId": "19fa999c-5656-4677-d012-783e1c1daebc"
      },
      "execution_count": 39,
      "outputs": [
        {
          "output_type": "stream",
          "name": "stdout",
          "text": [
            "1/1 [==============================] - 0s 67ms/step\n",
            "1/1 [==============================] - 0s 83ms/step\n",
            "1/1 [==============================] - 0s 69ms/step\n",
            "1/1 [==============================] - 0s 64ms/step\n",
            "1/1 [==============================] - 0s 64ms/step\n",
            "1/1 [==============================] - 0s 89ms/step\n",
            "1/1 [==============================] - 0s 67ms/step\n",
            "1/1 [==============================] - 0s 66ms/step\n",
            "1/1 [==============================] - 0s 79ms/step\n",
            "1/1 [==============================] - 0s 72ms/step\n",
            "1/1 [==============================] - 0s 71ms/step\n",
            "1/1 [==============================] - 0s 69ms/step\n",
            "1/1 [==============================] - 0s 70ms/step\n",
            "1/1 [==============================] - 0s 81ms/step\n",
            "1/1 [==============================] - 0s 67ms/step\n",
            "1/1 [==============================] - 0s 65ms/step\n",
            "1/1 [==============================] - 0s 88ms/step\n",
            "1/1 [==============================] - 0s 66ms/step\n",
            "1/1 [==============================] - 0s 68ms/step\n",
            "1/1 [==============================] - 0s 65ms/step\n",
            "1/1 [==============================] - 0s 65ms/step\n",
            "1/1 [==============================] - 0s 83ms/step\n",
            "1/1 [==============================] - 0s 77ms/step\n",
            "1/1 [==============================] - 0s 71ms/step\n",
            "1/1 [==============================] - 0s 70ms/step\n",
            "1/1 [==============================] - 0s 64ms/step\n",
            "1/1 [==============================] - 0s 70ms/step\n",
            "1/1 [==============================] - 0s 76ms/step\n",
            "1/1 [==============================] - 0s 65ms/step\n",
            "1/1 [==============================] - 0s 78ms/step\n",
            "1/1 [==============================] - 0s 69ms/step\n",
            "1/1 [==============================] - 0s 66ms/step\n",
            "1/1 [==============================] - 0s 68ms/step\n",
            "1/1 [==============================] - 0s 64ms/step\n",
            "1/1 [==============================] - 0s 76ms/step\n",
            "1/1 [==============================] - 0s 71ms/step\n",
            "1/1 [==============================] - 0s 65ms/step\n",
            "1/1 [==============================] - 0s 72ms/step\n",
            "1/1 [==============================] - 0s 70ms/step\n",
            "1/1 [==============================] - 0s 67ms/step\n",
            "1/1 [==============================] - 0s 66ms/step\n",
            "1/1 [==============================] - 0s 76ms/step\n",
            "1/1 [==============================] - 0s 68ms/step\n",
            "1/1 [==============================] - 0s 66ms/step\n",
            "1/1 [==============================] - 0s 67ms/step\n",
            "1/1 [==============================] - 0s 72ms/step\n",
            "1/1 [==============================] - 0s 74ms/step\n",
            "1/1 [==============================] - 0s 71ms/step\n",
            "1/1 [==============================] - 0s 71ms/step\n",
            "1/1 [==============================] - 0s 70ms/step\n",
            "1/1 [==============================] - 0s 84ms/step\n",
            "1/1 [==============================] - 0s 69ms/step\n",
            "1/1 [==============================] - 0s 88ms/step\n",
            "1/1 [==============================] - 0s 77ms/step\n",
            "1/1 [==============================] - 0s 70ms/step\n",
            "1/1 [==============================] - 0s 67ms/step\n",
            "1/1 [==============================] - 0s 80ms/step\n",
            "1/1 [==============================] - 0s 77ms/step\n",
            "1/1 [==============================] - 0s 95ms/step\n",
            "1/1 [==============================] - 0s 111ms/step\n",
            "1/1 [==============================] - 0s 100ms/step\n",
            "1/1 [==============================] - 0s 99ms/step\n",
            "1/1 [==============================] - 0s 97ms/step\n",
            "1/1 [==============================] - 0s 108ms/step\n",
            "1/1 [==============================] - 0s 128ms/step\n",
            "1/1 [==============================] - 0s 107ms/step\n",
            "1/1 [==============================] - 0s 114ms/step\n",
            "1/1 [==============================] - 0s 110ms/step\n",
            "1/1 [==============================] - 0s 103ms/step\n",
            "1/1 [==============================] - 0s 116ms/step\n",
            "1/1 [==============================] - 0s 116ms/step\n",
            "1/1 [==============================] - 0s 101ms/step\n",
            "1/1 [==============================] - 0s 104ms/step\n",
            "1/1 [==============================] - 0s 112ms/step\n",
            "1/1 [==============================] - 0s 118ms/step\n",
            "1/1 [==============================] - 0s 103ms/step\n",
            "1/1 [==============================] - 0s 103ms/step\n",
            "1/1 [==============================] - 0s 105ms/step\n",
            "1/1 [==============================] - 0s 106ms/step\n",
            "1/1 [==============================] - 0s 72ms/step\n",
            "1/1 [==============================] - 0s 67ms/step\n",
            "1/1 [==============================] - 0s 85ms/step\n",
            "1/1 [==============================] - 0s 71ms/step\n",
            "1/1 [==============================] - 0s 69ms/step\n",
            "1/1 [==============================] - 0s 66ms/step\n",
            "1/1 [==============================] - 0s 75ms/step\n",
            "1/1 [==============================] - 0s 71ms/step\n",
            "1/1 [==============================] - 0s 68ms/step\n",
            "1/1 [==============================] - 0s 66ms/step\n",
            "1/1 [==============================] - 0s 94ms/step\n",
            "1/1 [==============================] - 0s 69ms/step\n",
            "1/1 [==============================] - 0s 69ms/step\n",
            "1/1 [==============================] - 0s 75ms/step\n",
            "1/1 [==============================] - 0s 69ms/step\n",
            "1/1 [==============================] - 0s 69ms/step\n",
            "1/1 [==============================] - 0s 79ms/step\n",
            "1/1 [==============================] - 0s 90ms/step\n",
            "1/1 [==============================] - 0s 71ms/step\n",
            "1/1 [==============================] - 0s 67ms/step\n",
            "1/1 [==============================] - 0s 69ms/step\n"
          ]
        },
        {
          "output_type": "display_data",
          "data": {
            "text/plain": [
              "<Figure size 1000x600 with 10 Axes>"
            ],
            "image/png": "[encoded data removed]"
          },
          "metadata": {}
        }
      ]
    }
  ]
}